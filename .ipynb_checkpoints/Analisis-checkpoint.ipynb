{
 "cells": [
  {
   "cell_type": "markdown",
   "metadata": {},
   "source": [
    "# PAP - Predicción de consumo de energía en días festivos"
   ]
  },
  {
   "cell_type": "code",
   "execution_count": 304,
   "metadata": {},
   "outputs": [],
   "source": [
    "import pandas as pd\n",
    "import matplotlib.pyplot as plt\n",
    "#from xlrd.xldate import xldate_as_tuple\n",
    "#from datetime import datetime\n",
    "from datetime import datetime\n",
    "from calendar import monthrange"
   ]
  },
  {
   "cell_type": "markdown",
   "metadata": {},
   "source": [
    "### Acomodo de datos"
   ]
  },
  {
   "cell_type": "code",
   "execution_count": 199,
   "metadata": {},
   "outputs": [
    {
     "data": {
      "text/html": [
       "<div>\n",
       "<style scoped>\n",
       "    .dataframe tbody tr th:only-of-type {\n",
       "        vertical-align: middle;\n",
       "    }\n",
       "\n",
       "    .dataframe tbody tr th {\n",
       "        vertical-align: top;\n",
       "    }\n",
       "\n",
       "    .dataframe thead th {\n",
       "        text-align: right;\n",
       "    }\n",
       "</style>\n",
       "<table border=\"1\" class=\"dataframe\">\n",
       "  <thead>\n",
       "    <tr style=\"text-align: right;\">\n",
       "      <th></th>\n",
       "      <th>Conmemoracion</th>\n",
       "    </tr>\n",
       "    <tr>\n",
       "      <th>Fecha</th>\n",
       "      <th></th>\n",
       "    </tr>\n",
       "  </thead>\n",
       "  <tbody>\n",
       "    <tr>\n",
       "      <th>1997-01-01</th>\n",
       "      <td>año nuevo</td>\n",
       "    </tr>\n",
       "    <tr>\n",
       "      <th>1997-05-02</th>\n",
       "      <td>aniversario de la Constitución de 1917</td>\n",
       "    </tr>\n",
       "    <tr>\n",
       "      <th>1997-03-21</th>\n",
       "      <td>natalicio de Benito Juárez Garcia</td>\n",
       "    </tr>\n",
       "    <tr>\n",
       "      <th>1997-03-27</th>\n",
       "      <td>jueves santo</td>\n",
       "    </tr>\n",
       "    <tr>\n",
       "      <th>1997-03-28</th>\n",
       "      <td>viernes santo</td>\n",
       "    </tr>\n",
       "    <tr>\n",
       "      <th>1997-01-05</th>\n",
       "      <td>día del trabajo</td>\n",
       "    </tr>\n",
       "    <tr>\n",
       "      <th>1997-10-05</th>\n",
       "      <td>día de la madre</td>\n",
       "    </tr>\n",
       "    <tr>\n",
       "      <th>1997-09-16</th>\n",
       "      <td>día de la Independencia</td>\n",
       "    </tr>\n",
       "    <tr>\n",
       "      <th>1997-12-10</th>\n",
       "      <td>día de la Virgen de Zapopan</td>\n",
       "    </tr>\n",
       "    <tr>\n",
       "      <th>1997-02-11</th>\n",
       "      <td>día de los muertos</td>\n",
       "    </tr>\n",
       "    <tr>\n",
       "      <th>1997-11-20</th>\n",
       "      <td>día de la Revolución</td>\n",
       "    </tr>\n",
       "    <tr>\n",
       "      <th>1997-12-12</th>\n",
       "      <td>día de la Virgen de Guadalupe</td>\n",
       "    </tr>\n",
       "    <tr>\n",
       "      <th>1997-12-25</th>\n",
       "      <td>Navidad</td>\n",
       "    </tr>\n",
       "    <tr>\n",
       "      <th>1998-01-01</th>\n",
       "      <td>año nuevo</td>\n",
       "    </tr>\n",
       "    <tr>\n",
       "      <th>1998-05-02</th>\n",
       "      <td>aniversario de la Constitución de 1917</td>\n",
       "    </tr>\n",
       "    <tr>\n",
       "      <th>1998-03-21</th>\n",
       "      <td>natalicio de Benito Juárez Garcia</td>\n",
       "    </tr>\n",
       "    <tr>\n",
       "      <th>1998-09-04</th>\n",
       "      <td>jueves santo</td>\n",
       "    </tr>\n",
       "    <tr>\n",
       "      <th>1998-10-04</th>\n",
       "      <td>viernes santo</td>\n",
       "    </tr>\n",
       "    <tr>\n",
       "      <th>1998-01-05</th>\n",
       "      <td>día del trabajo</td>\n",
       "    </tr>\n",
       "    <tr>\n",
       "      <th>1998-10-05</th>\n",
       "      <td>día de la madre</td>\n",
       "    </tr>\n",
       "    <tr>\n",
       "      <th>1998-09-16</th>\n",
       "      <td>día de la Independencia</td>\n",
       "    </tr>\n",
       "    <tr>\n",
       "      <th>1998-12-10</th>\n",
       "      <td>día de la Virgen de Zapopan</td>\n",
       "    </tr>\n",
       "    <tr>\n",
       "      <th>1998-02-11</th>\n",
       "      <td>día de los muertos</td>\n",
       "    </tr>\n",
       "    <tr>\n",
       "      <th>1998-11-20</th>\n",
       "      <td>día de la Revolución</td>\n",
       "    </tr>\n",
       "    <tr>\n",
       "      <th>1998-12-12</th>\n",
       "      <td>día de la Virgen de Guadalupe</td>\n",
       "    </tr>\n",
       "    <tr>\n",
       "      <th>1998-12-25</th>\n",
       "      <td>Navidad</td>\n",
       "    </tr>\n",
       "    <tr>\n",
       "      <th>1999-01-01</th>\n",
       "      <td>año nuevo</td>\n",
       "    </tr>\n",
       "    <tr>\n",
       "      <th>1999-05-02</th>\n",
       "      <td>aniversario de la Constitución de 1917</td>\n",
       "    </tr>\n",
       "    <tr>\n",
       "      <th>1999-03-21</th>\n",
       "      <td>natalicio de Benito Juárez Garcia</td>\n",
       "    </tr>\n",
       "    <tr>\n",
       "      <th>1999-01-04</th>\n",
       "      <td>jueves santo</td>\n",
       "    </tr>\n",
       "    <tr>\n",
       "      <th>...</th>\n",
       "      <td>...</td>\n",
       "    </tr>\n",
       "    <tr>\n",
       "      <th>2017-12-12</th>\n",
       "      <td>día de la Virgen de Guadalupe</td>\n",
       "    </tr>\n",
       "    <tr>\n",
       "      <th>2017-12-25</th>\n",
       "      <td>Navidad</td>\n",
       "    </tr>\n",
       "    <tr>\n",
       "      <th>2018-01-01</th>\n",
       "      <td>año nuevo</td>\n",
       "    </tr>\n",
       "    <tr>\n",
       "      <th>2018-05-02</th>\n",
       "      <td>aniversario de la Constitución de 1917</td>\n",
       "    </tr>\n",
       "    <tr>\n",
       "      <th>2018-03-19</th>\n",
       "      <td>natalicio de Benito Juárez Garcia</td>\n",
       "    </tr>\n",
       "    <tr>\n",
       "      <th>2018-03-29</th>\n",
       "      <td>jueves santo</td>\n",
       "    </tr>\n",
       "    <tr>\n",
       "      <th>2018-03-30</th>\n",
       "      <td>viernes santo</td>\n",
       "    </tr>\n",
       "    <tr>\n",
       "      <th>2018-01-05</th>\n",
       "      <td>día del trabajo</td>\n",
       "    </tr>\n",
       "    <tr>\n",
       "      <th>2018-10-05</th>\n",
       "      <td>día de la madre</td>\n",
       "    </tr>\n",
       "    <tr>\n",
       "      <th>2018-01-07</th>\n",
       "      <td>elecciones presidenciales</td>\n",
       "    </tr>\n",
       "    <tr>\n",
       "      <th>2018-09-16</th>\n",
       "      <td>día de la Independencia</td>\n",
       "    </tr>\n",
       "    <tr>\n",
       "      <th>2018-12-10</th>\n",
       "      <td>día de la Virgen de Zapopan</td>\n",
       "    </tr>\n",
       "    <tr>\n",
       "      <th>2018-02-11</th>\n",
       "      <td>día de los muertos</td>\n",
       "    </tr>\n",
       "    <tr>\n",
       "      <th>2018-11-19</th>\n",
       "      <td>día de la Revolución</td>\n",
       "    </tr>\n",
       "    <tr>\n",
       "      <th>2018-01-12</th>\n",
       "      <td>cambio de poder</td>\n",
       "    </tr>\n",
       "    <tr>\n",
       "      <th>2018-12-12</th>\n",
       "      <td>día de la Virgen de Guadalupe</td>\n",
       "    </tr>\n",
       "    <tr>\n",
       "      <th>2018-12-25</th>\n",
       "      <td>Navidad</td>\n",
       "    </tr>\n",
       "    <tr>\n",
       "      <th>2019-01-01</th>\n",
       "      <td>año nuevo</td>\n",
       "    </tr>\n",
       "    <tr>\n",
       "      <th>2019-05-02</th>\n",
       "      <td>aniversario de la Constitución de 1917</td>\n",
       "    </tr>\n",
       "    <tr>\n",
       "      <th>2019-03-18</th>\n",
       "      <td>natalicio de Benito Juárez Garcia</td>\n",
       "    </tr>\n",
       "    <tr>\n",
       "      <th>2019-04-18</th>\n",
       "      <td>jueves santo</td>\n",
       "    </tr>\n",
       "    <tr>\n",
       "      <th>2019-04-19</th>\n",
       "      <td>viernes santo</td>\n",
       "    </tr>\n",
       "    <tr>\n",
       "      <th>2019-01-05</th>\n",
       "      <td>día del trabajo</td>\n",
       "    </tr>\n",
       "    <tr>\n",
       "      <th>2019-10-05</th>\n",
       "      <td>día de la madre</td>\n",
       "    </tr>\n",
       "    <tr>\n",
       "      <th>2019-05-16</th>\n",
       "      <td>día de la Independencia</td>\n",
       "    </tr>\n",
       "    <tr>\n",
       "      <th>2019-12-10</th>\n",
       "      <td>día de la Virgen de Zapopan</td>\n",
       "    </tr>\n",
       "    <tr>\n",
       "      <th>2019-02-11</th>\n",
       "      <td>día de los muertos</td>\n",
       "    </tr>\n",
       "    <tr>\n",
       "      <th>2019-11-18</th>\n",
       "      <td>día de la Revolución</td>\n",
       "    </tr>\n",
       "    <tr>\n",
       "      <th>2019-12-12</th>\n",
       "      <td>día de la Virgen de Guadalupe</td>\n",
       "    </tr>\n",
       "    <tr>\n",
       "      <th>2019-12-25</th>\n",
       "      <td>Navidad</td>\n",
       "    </tr>\n",
       "  </tbody>\n",
       "</table>\n",
       "<p>307 rows × 1 columns</p>\n",
       "</div>"
      ],
      "text/plain": [
       "                                     Conmemoracion\n",
       "Fecha                                             \n",
       "1997-01-01                               año nuevo\n",
       "1997-05-02  aniversario de la Constitución de 1917\n",
       "1997-03-21       natalicio de Benito Juárez Garcia\n",
       "1997-03-27                            jueves santo\n",
       "1997-03-28                           viernes santo\n",
       "1997-01-05                         día del trabajo\n",
       "1997-10-05                         día de la madre\n",
       "1997-09-16                 día de la Independencia\n",
       "1997-12-10             día de la Virgen de Zapopan\n",
       "1997-02-11                      día de los muertos\n",
       "1997-11-20                    día de la Revolución\n",
       "1997-12-12           día de la Virgen de Guadalupe\n",
       "1997-12-25                                 Navidad\n",
       "1998-01-01                               año nuevo\n",
       "1998-05-02  aniversario de la Constitución de 1917\n",
       "1998-03-21       natalicio de Benito Juárez Garcia\n",
       "1998-09-04                            jueves santo\n",
       "1998-10-04                           viernes santo\n",
       "1998-01-05                         día del trabajo\n",
       "1998-10-05                         día de la madre\n",
       "1998-09-16                 día de la Independencia\n",
       "1998-12-10             día de la Virgen de Zapopan\n",
       "1998-02-11                      día de los muertos\n",
       "1998-11-20                    día de la Revolución\n",
       "1998-12-12           día de la Virgen de Guadalupe\n",
       "1998-12-25                                 Navidad\n",
       "1999-01-01                               año nuevo\n",
       "1999-05-02  aniversario de la Constitución de 1917\n",
       "1999-03-21       natalicio de Benito Juárez Garcia\n",
       "1999-01-04                            jueves santo\n",
       "...                                            ...\n",
       "2017-12-12           día de la Virgen de Guadalupe\n",
       "2017-12-25                                 Navidad\n",
       "2018-01-01                               año nuevo\n",
       "2018-05-02  aniversario de la Constitución de 1917\n",
       "2018-03-19       natalicio de Benito Juárez Garcia\n",
       "2018-03-29                            jueves santo\n",
       "2018-03-30                           viernes santo\n",
       "2018-01-05                         día del trabajo\n",
       "2018-10-05                         día de la madre\n",
       "2018-01-07               elecciones presidenciales\n",
       "2018-09-16                 día de la Independencia\n",
       "2018-12-10             día de la Virgen de Zapopan\n",
       "2018-02-11                      día de los muertos\n",
       "2018-11-19                    día de la Revolución\n",
       "2018-01-12                         cambio de poder\n",
       "2018-12-12           día de la Virgen de Guadalupe\n",
       "2018-12-25                                 Navidad\n",
       "2019-01-01                               año nuevo\n",
       "2019-05-02  aniversario de la Constitución de 1917\n",
       "2019-03-18       natalicio de Benito Juárez Garcia\n",
       "2019-04-18                            jueves santo\n",
       "2019-04-19                           viernes santo\n",
       "2019-01-05                         día del trabajo\n",
       "2019-10-05                         día de la madre\n",
       "2019-05-16                 día de la Independencia\n",
       "2019-12-10             día de la Virgen de Zapopan\n",
       "2019-02-11                      día de los muertos\n",
       "2019-11-18                    día de la Revolución\n",
       "2019-12-12           día de la Virgen de Guadalupe\n",
       "2019-12-25                                 Navidad\n",
       "\n",
       "[307 rows x 1 columns]"
      ]
     },
     "execution_count": 199,
     "metadata": {},
     "output_type": "execute_result"
    }
   ],
   "source": [
    "df = pd.read_excel(\"datos.xlsx\") #leyendo los datos\n",
    "df = df.set_index(\"fecha\") #establece la fecha como el index\n",
    "\n",
    "dates = pd.read_csv(\"fechas.csv\")\n",
    "dates['Fecha'] = pd.to_datetime(dates['Fecha']) \n",
    "dates = dates.set_index(\"Fecha\")\n",
    "dates"
   ]
  },
  {
   "cell_type": "code",
   "execution_count": 78,
   "metadata": {},
   "outputs": [],
   "source": [
    "names = ['año nuevo','aniversario de la Constitución de 1917','natalicio de Benito Juárez Garcia',\n",
    "        'jueves santo','viernes santo','día del trabajo',\n",
    "        'día de la madre','día de la Independencia',\n",
    "        'día de la Virgen de Zapopan','día de los muertos',\n",
    "        'día de la Revolución','día de la Virgen de Guadalupe',\n",
    "        'Navidad']"
   ]
  },
  {
   "cell_type": "code",
   "execution_count": 187,
   "metadata": {},
   "outputs": [],
   "source": [
    "data = df.join(dates)\n",
    "data = data.dropna()"
   ]
  },
  {
   "cell_type": "code",
   "execution_count": 122,
   "metadata": {},
   "outputs": [
    {
     "data": {
      "text/plain": [
       "1997"
      ]
     },
     "execution_count": 122,
     "metadata": {},
     "output_type": "execute_result"
    }
   ],
   "source": [
    "dates.index[0].year"
   ]
  },
  {
   "cell_type": "code",
   "execution_count": 193,
   "metadata": {},
   "outputs": [],
   "source": [
    "## DataFrame con los datos historicos de los días festivos\n",
    "\n",
    "x = data['MWh']\n",
    "j = data['Conmemoracion']\n",
    "fecha = data.index\n",
    "historic = pd.DataFrame()\n",
    "\n",
    "for i in range(0,13): \n",
    "    x = list(data[(data.Conmemoracion == names[i])]['MWh'])\n",
    "    name = names[i]\n",
    "    historic[name] = pd.Series(x)\n"
   ]
  },
  {
   "cell_type": "code",
   "execution_count": 307,
   "metadata": {},
   "outputs": [
    {
     "data": {
      "text/plain": [
       "29"
      ]
     },
     "execution_count": 307,
     "metadata": {},
     "output_type": "execute_result"
    }
   ],
   "source": [
    "y= monthrange(2012, 2)\n",
    "y[1]"
   ]
  },
  {
   "cell_type": "markdown",
   "metadata": {},
   "source": [
    "### Representación visual"
   ]
  },
  {
   "cell_type": "code",
   "execution_count": 303,
   "metadata": {},
   "outputs": [],
   "source": [
    "#Funcion para obtener días anteriores y posteriores\n",
    "\n",
    "def ant_post(mes):\n",
    "\n",
    "    consumo_ =pd.DataFrame()\n",
    "    _consumo =pd.DataFrame()\n",
    "    consumo = pd.DataFrame()\n",
    "    \n",
    "    nn= monthrange(2002, mes)\n",
    "    n = nn[1]\n",
    "    \n",
    "    if dates['Conmemoracion'][mes] == names[mes]:\n",
    "        month= dates.index.month[mes]\n",
    "        day = dates.index.day[mes]\n",
    "    \n",
    "\n",
    "    for i in range(0,5):\n",
    "        day_ = day + i    \n",
    "        z = list(df[(df.index.month == month) & (df.index.day == day_)]['MWh'])\n",
    "        consumo_[i] = pd.Series(z)\n",
    "        if day <=(i+1):\n",
    "            _day = n-(i+1)+day\n",
    "        else:\n",
    "            _day = day - i\n",
    "        y = list(df[(df.index.month == month) & (df.index.day == _day)]['MWh'])\n",
    "        _consumo[i+5] = pd.Series(y)\n",
    "\n",
    "    consumo = pd.concat([consumo_ , _consumo],axis=1)\n",
    "    cols = [ 9, 8, 7, 6 ,5, 1, 2,3, 4, 5]\n",
    "    consumo = consumo[cols]\n",
    "    consumo.columns=['-5','-4','-3','-2','-1','Day','+1','+2','+3','+4']\n",
    "    return(consumo)"
   ]
  },
  {
   "cell_type": "code",
   "execution_count": 308,
   "metadata": {},
   "outputs": [],
   "source": [
    "consumo_ =pd.DataFrame()\n",
    "_consumo =pd.DataFrame()\n",
    "consumo = pd.DataFrame()\n",
    "\n",
    "if dates['Conmemoracion'][0] == names[0]:\n",
    "    month= dates.index.month[0]\n",
    "    day = dates.index.day[0]\n",
    "for i in range(0,5):\n",
    "    day_ = day + i    \n",
    "    z = list(df[(df.index.month == month) & (df.index.day == day_)]['MWh'])\n",
    "    consumo_[i] = pd.Series(z)\n",
    "    if day <=(i+1):\n",
    "        _day = n-(i+1)+day\n",
    "    else:\n",
    "        _day = day - i\n",
    "    y = list(df[(df.index.month == month) & (df.index.day == _day)]['MWh'])\n",
    "    _consumo[i+5] = pd.Series(y)\n",
    "\n",
    "consumo = pd.concat([consumo_ , _consumo],axis=1)\n",
    "cols = [ 9, 8, 7, 6 ,5, 1, 2,3, 4, 5]\n",
    "consumo = consumo[cols]\n",
    "consumo.columns=['-5','-4','-3','-2','-1','Day','+1','+2','+3','+4']\n"
   ]
  },
  {
   "cell_type": "markdown",
   "metadata": {},
   "source": [
    "#### Año nuevo"
   ]
  },
  {
   "cell_type": "code",
   "execution_count": 312,
   "metadata": {},
   "outputs": [
    {
     "data": {
      "text/plain": [
       "<matplotlib.axes._subplots.AxesSubplot at 0x10c079320>"
      ]
     },
     "execution_count": 312,
     "metadata": {},
     "output_type": "execute_result"
    },
    {
     "data": {
      "image/png": "[encoded data removed]",
      "text/plain": [
       "<Figure size 432x288 with 1 Axes>"
      ]
     },
     "metadata": {},
     "output_type": "display_data"
    }
   ],
   "source": [
    "consumo=ant_post(0)\n",
    "consumo.plot(kind = 'box')"
   ]
  },
  {
   "cell_type": "markdown",
   "metadata": {},
   "source": [
    "#### Aniversario de la Constitución de 1917"
   ]
  },
  {
   "cell_type": "code",
   "execution_count": null,
   "metadata": {},
   "outputs": [],
   "source": []
  },
  {
   "cell_type": "markdown",
   "metadata": {},
   "source": [
    "#### Natalicio de Benito Juárez Garcia"
   ]
  },
  {
   "cell_type": "code",
   "execution_count": null,
   "metadata": {},
   "outputs": [],
   "source": []
  },
  {
   "cell_type": "markdown",
   "metadata": {},
   "source": [
    "#### Jueves Santo"
   ]
  },
  {
   "cell_type": "code",
   "execution_count": null,
   "metadata": {},
   "outputs": [],
   "source": []
  },
  {
   "cell_type": "code",
   "execution_count": null,
   "metadata": {},
   "outputs": [],
   "source": []
  },
  {
   "cell_type": "markdown",
   "metadata": {},
   "source": [
    "### Análisis de datos"
   ]
  },
  {
   "cell_type": "code",
   "execution_count": 322,
   "metadata": {},
   "outputs": [],
   "source": [
    "# Calcular variaciones (año con año)\n",
    "change = historic.pct_change().dropna()\n",
    "#change.plot()\n",
    "#change"
   ]
  },
  {
   "cell_type": "code",
   "execution_count": 332,
   "metadata": {},
   "outputs": [
    {
     "data": {
      "text/plain": [
       "<matplotlib.axes._subplots.AxesSubplot at 0x117188780>"
      ]
     },
     "execution_count": 332,
     "metadata": {},
     "output_type": "execute_result"
    },
    {
     "data": {
      "image/png": "[encoded data removed]",
      "text/plain": [
       "<Figure size 432x288 with 1 Axes>"
      ]
     },
     "metadata": {},
     "output_type": "display_data"
    }
   ],
   "source": [
    "# De un dia a otro\n",
    "anno_nvo = ant_post(0)\n",
    "a = (anno_nvo['Day']-anno_nvo['-1'])/anno_nvo['Day']\n",
    "a.plot()"
   ]
  },
  {
   "cell_type": "code",
   "execution_count": null,
   "metadata": {},
   "outputs": [],
   "source": []
  }
 ],
 "metadata": {
  "kernelspec": {
   "display_name": "Python 3",
   "language": "python",
   "name": "python3"
  },
  "language_info": {
   "codemirror_mode": {
    "name": "ipython",
    "version": 3
   },
   "file_extension": ".py",
   "mimetype": "text/x-python",
   "name": "python",
   "nbconvert_exporter": "python",
   "pygments_lexer": "ipython3",
   "version": "3.6.5"
  }
 },
 "nbformat": 4,
 "nbformat_minor": 2
}

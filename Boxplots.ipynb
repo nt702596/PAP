{
 "cells": [
  {
   "cell_type": "code",
   "execution_count": 30,
   "metadata": {},
   "outputs": [],
   "source": [
    "import pandas as pd\n",
    "import matplotlib.pyplot as plt\n",
    "%matplotlib inline\n",
    "#from xlrd.xldate import xldate_as_tuple\n",
    "#from datetime import datetime"
   ]
  },
  {
   "cell_type": "code",
   "execution_count": 65,
   "metadata": {
    "scrolled": true
   },
   "outputs": [
    {
     "data": {
      "text/html": [
       "<div>\n",
       "<style scoped>\n",
       "    .dataframe tbody tr th:only-of-type {\n",
       "        vertical-align: middle;\n",
       "    }\n",
       "\n",
       "    .dataframe tbody tr th {\n",
       "        vertical-align: top;\n",
       "    }\n",
       "\n",
       "    .dataframe thead th {\n",
       "        text-align: right;\n",
       "    }\n",
       "</style>\n",
       "<table border=\"1\" class=\"dataframe\">\n",
       "  <thead>\n",
       "    <tr style=\"text-align: right;\">\n",
       "      <th></th>\n",
       "      <th>MWh</th>\n",
       "    </tr>\n",
       "    <tr>\n",
       "      <th>fecha</th>\n",
       "      <th></th>\n",
       "    </tr>\n",
       "  </thead>\n",
       "  <tbody>\n",
       "    <tr>\n",
       "      <td>2001-12-29</td>\n",
       "      <td>100564.520</td>\n",
       "    </tr>\n",
       "    <tr>\n",
       "      <td>2001-12-30</td>\n",
       "      <td>91005.542</td>\n",
       "    </tr>\n",
       "    <tr>\n",
       "      <td>2001-12-31</td>\n",
       "      <td>92677.945</td>\n",
       "    </tr>\n",
       "    <tr>\n",
       "      <td>2002-01-01</td>\n",
       "      <td>80498.491</td>\n",
       "    </tr>\n",
       "    <tr>\n",
       "      <td>2002-01-02</td>\n",
       "      <td>100411.915</td>\n",
       "    </tr>\n",
       "    <tr>\n",
       "      <td>...</td>\n",
       "      <td>...</td>\n",
       "    </tr>\n",
       "    <tr>\n",
       "      <td>2019-09-18</td>\n",
       "      <td>199330.987</td>\n",
       "    </tr>\n",
       "    <tr>\n",
       "      <td>2019-09-19</td>\n",
       "      <td>197681.325</td>\n",
       "    </tr>\n",
       "    <tr>\n",
       "      <td>2019-09-20</td>\n",
       "      <td>195693.814</td>\n",
       "    </tr>\n",
       "    <tr>\n",
       "      <td>2019-09-21</td>\n",
       "      <td>185969.621</td>\n",
       "    </tr>\n",
       "    <tr>\n",
       "      <td>2019-09-22</td>\n",
       "      <td>164464.339</td>\n",
       "    </tr>\n",
       "  </tbody>\n",
       "</table>\n",
       "<p>6477 rows × 1 columns</p>\n",
       "</div>"
      ],
      "text/plain": [
       "                   MWh\n",
       "fecha                 \n",
       "2001-12-29  100564.520\n",
       "2001-12-30   91005.542\n",
       "2001-12-31   92677.945\n",
       "2002-01-01   80498.491\n",
       "2002-01-02  100411.915\n",
       "...                ...\n",
       "2019-09-18  199330.987\n",
       "2019-09-19  197681.325\n",
       "2019-09-20  195693.814\n",
       "2019-09-21  185969.621\n",
       "2019-09-22  164464.339\n",
       "\n",
       "[6477 rows x 1 columns]"
      ]
     },
     "execution_count": 65,
     "metadata": {},
     "output_type": "execute_result"
    }
   ],
   "source": [
    "df = pd.read_excel(\"datos.xlsx\") #leyendo los datos\n",
    "df = df.set_index(\"fecha\") #establece la fecha como el index\n",
    "#df1 = df.reset_index(drop = True)\n",
    "df"
   ]
  },
  {
   "cell_type": "code",
   "execution_count": 77,
   "metadata": {
    "scrolled": false
   },
   "outputs": [
    {
     "data": {
      "text/plain": [
       "<matplotlib.axes._subplots.AxesSubplot at 0x117001550>"
      ]
     },
     "execution_count": 77,
     "metadata": {},
     "output_type": "execute_result"
    },
    {
     "data": {
      "image/png": "[encoded data removed]",
      "text/plain": [
       "<Figure size 432x288 with 1 Axes>"
      ]
     },
     "metadata": {
      "needs_background": "light"
     },
     "output_type": "display_data"
    }
   ],
   "source": [
    "#plt.boxplot(df.index)\n",
    "df.plot.box(ylim=(70000,235000))"
   ]
  },
  {
   "cell_type": "code",
   "execution_count": 43,
   "metadata": {},
   "outputs": [],
   "source": [
    "#df.index[0].month"
   ]
  },
  {
   "cell_type": "code",
   "execution_count": 67,
   "metadata": {
    "scrolled": false
   },
   "outputs": [
    {
     "data": {
      "text/html": [
       "<div>\n",
       "<style scoped>\n",
       "    .dataframe tbody tr th:only-of-type {\n",
       "        vertical-align: middle;\n",
       "    }\n",
       "\n",
       "    .dataframe tbody tr th {\n",
       "        vertical-align: top;\n",
       "    }\n",
       "\n",
       "    .dataframe thead th {\n",
       "        text-align: right;\n",
       "    }\n",
       "</style>\n",
       "<table border=\"1\" class=\"dataframe\">\n",
       "  <thead>\n",
       "    <tr style=\"text-align: right;\">\n",
       "      <th></th>\n",
       "      <th>MWh</th>\n",
       "    </tr>\n",
       "    <tr>\n",
       "      <th>fecha</th>\n",
       "      <th></th>\n",
       "    </tr>\n",
       "  </thead>\n",
       "  <tbody>\n",
       "    <tr>\n",
       "      <td>2002-01-01</td>\n",
       "      <td>80498.491000</td>\n",
       "    </tr>\n",
       "    <tr>\n",
       "      <td>2003-01-01</td>\n",
       "      <td>84916.880000</td>\n",
       "    </tr>\n",
       "    <tr>\n",
       "      <td>2004-01-01</td>\n",
       "      <td>87213.310000</td>\n",
       "    </tr>\n",
       "    <tr>\n",
       "      <td>2005-01-01</td>\n",
       "      <td>91057.138000</td>\n",
       "    </tr>\n",
       "    <tr>\n",
       "      <td>2006-01-01</td>\n",
       "      <td>97162.305000</td>\n",
       "    </tr>\n",
       "    <tr>\n",
       "      <td>2007-01-01</td>\n",
       "      <td>98112.970000</td>\n",
       "    </tr>\n",
       "    <tr>\n",
       "      <td>2008-01-01</td>\n",
       "      <td>105290.046000</td>\n",
       "    </tr>\n",
       "    <tr>\n",
       "      <td>2009-01-01</td>\n",
       "      <td>96068.141000</td>\n",
       "    </tr>\n",
       "    <tr>\n",
       "      <td>2010-01-01</td>\n",
       "      <td>107634.538000</td>\n",
       "    </tr>\n",
       "    <tr>\n",
       "      <td>2011-01-01</td>\n",
       "      <td>117413.460000</td>\n",
       "    </tr>\n",
       "    <tr>\n",
       "      <td>2012-01-01</td>\n",
       "      <td>116974.728000</td>\n",
       "    </tr>\n",
       "    <tr>\n",
       "      <td>2013-01-01</td>\n",
       "      <td>121834.074000</td>\n",
       "    </tr>\n",
       "    <tr>\n",
       "      <td>2014-01-01</td>\n",
       "      <td>113393.160000</td>\n",
       "    </tr>\n",
       "    <tr>\n",
       "      <td>2015-01-01</td>\n",
       "      <td>120994.722000</td>\n",
       "    </tr>\n",
       "    <tr>\n",
       "      <td>2016-01-01</td>\n",
       "      <td>115486.169000</td>\n",
       "    </tr>\n",
       "    <tr>\n",
       "      <td>2017-01-01</td>\n",
       "      <td>121291.883000</td>\n",
       "    </tr>\n",
       "    <tr>\n",
       "      <td>2018-01-01</td>\n",
       "      <td>120848.333185</td>\n",
       "    </tr>\n",
       "    <tr>\n",
       "      <td>2019-01-01</td>\n",
       "      <td>125339.738000</td>\n",
       "    </tr>\n",
       "  </tbody>\n",
       "</table>\n",
       "</div>"
      ],
      "text/plain": [
       "                      MWh\n",
       "fecha                    \n",
       "2002-01-01   80498.491000\n",
       "2003-01-01   84916.880000\n",
       "2004-01-01   87213.310000\n",
       "2005-01-01   91057.138000\n",
       "2006-01-01   97162.305000\n",
       "2007-01-01   98112.970000\n",
       "2008-01-01  105290.046000\n",
       "2009-01-01   96068.141000\n",
       "2010-01-01  107634.538000\n",
       "2011-01-01  117413.460000\n",
       "2012-01-01  116974.728000\n",
       "2013-01-01  121834.074000\n",
       "2014-01-01  113393.160000\n",
       "2015-01-01  120994.722000\n",
       "2016-01-01  115486.169000\n",
       "2017-01-01  121291.883000\n",
       "2018-01-01  120848.333185\n",
       "2019-01-01  125339.738000"
      ]
     },
     "execution_count": 67,
     "metadata": {},
     "output_type": "execute_result"
    }
   ],
   "source": [
    "anionuevo = df[(df.index.month == 1) & (df.index.day == 1)]\n",
    "anionuevo"
   ]
  },
  {
   "cell_type": "code",
   "execution_count": 74,
   "metadata": {
    "scrolled": false
   },
   "outputs": [
    {
     "data": {
      "text/plain": [
       "<matplotlib.axes._subplots.AxesSubplot at 0x11a6d96d0>"
      ]
     },
     "execution_count": 74,
     "metadata": {},
     "output_type": "execute_result"
    },
    {
     "data": {
      "image/png": "[encoded data removed]",
      "text/plain": [
       "<Figure size 432x288 with 1 Axes>"
      ]
     },
     "metadata": {
      "needs_background": "light"
     },
     "output_type": "display_data"
    }
   ],
   "source": [
    "anionuevo.plot.box(ylim=(75000,130000))"
   ]
  },
  {
   "cell_type": "code",
   "execution_count": null,
   "metadata": {},
   "outputs": [],
   "source": []
  }
 ],
 "metadata": {
  "kernelspec": {
   "display_name": "Python 3",
   "language": "python",
   "name": "python3"
  },
  "language_info": {
   "codemirror_mode": {
    "name": "ipython",
    "version": 3
   },
   "file_extension": ".py",
   "mimetype": "text/x-python",
   "name": "python",
   "nbconvert_exporter": "python",
   "pygments_lexer": "ipython3",
   "version": "3.7.4"
  }
 },
 "nbformat": 4,
 "nbformat_minor": 2
}
